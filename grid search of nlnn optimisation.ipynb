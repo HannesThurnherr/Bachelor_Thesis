{
 "cells": [
  {
   "cell_type": "code",
   "execution_count": 1,
   "id": "203c268a",
   "metadata": {},
   "outputs": [
    {
     "data": {
      "text/plain": [
       "'\\nOptimise runtime somehow (just make it faster)\\ndefine list of options\\nmake all the the options possible in code (implement alternative algorithms)\\nconfigure pipeline so it takes configuration as a parameter\\nset up grid search\\n???\\nnobel prize\\n'"
      ]
     },
     "execution_count": 1,
     "metadata": {},
     "output_type": "execute_result"
    }
   ],
   "source": [
    "#TDL\n",
    "\"\"\"\n",
    "Optimise runtime somehow (just make it faster)\n",
    "define list of options\n",
    "make all the the options possible in code (implement alternative algorithms)\n",
    "configure pipeline so it takes configuration as a parameter\n",
    "set up grid search\n",
    "???\n",
    "nobel prize\n",
    "\"\"\""
   ]
  },
  {
   "cell_type": "code",
   "execution_count": 2,
   "id": "ad88aabc",
   "metadata": {},
   "outputs": [],
   "source": [
    "import numpy as np\n",
    "import tensorflow as tf\n",
    "import tensorflow.keras\n",
    "import matplotlib.pyplot as plt\n",
    "import sys\n",
    "import os\n",
    "from non_layered_neural_net import nlnn\n",
    "\n"
   ]
  },
  {
   "cell_type": "code",
   "execution_count": 3,
   "id": "d05c48dd",
   "metadata": {},
   "outputs": [],
   "source": [
    "#remove later\n",
    "sys.argv[0] = \"1\""
   ]
  },
  {
   "cell_type": "code",
   "execution_count": 4,
   "id": "34efd20c",
   "metadata": {},
   "outputs": [],
   "source": [
    "#Run_hyperparameters\n",
    "training_run = int(sys.argv[0])\n",
    "neuron_count=300\n",
    "connection_probability_dropoff=3\n",
    "connection_probability_scalar=0.00003\n",
    "input_layer_connectivity_multiplyer=50\n",
    "output_layer_connectivity_multiplyer=20\n",
    "weight_initialisation_range=2\n",
    "distances_from_input_output_layer_to_main_neuron_field=0.1\n",
    "hidden_neuron_connections = 7\n",
    "input_neuron_connections = 10\n",
    "output_neuron_connections = 10\n",
    "inference_steps = 8\n",
    "\n",
    "n_closes_neurons_connection_probability=\"connection_prob\"  #\"connection_prob\" /\"n_closest\"\n",
    "activation_function=\"sigmoid\" #relu\n",
    "\n",
    "generation_size=10\n",
    "n_survivors=3\n",
    "mutation_range=0.1\n",
    "training_set_size=1000\n",
    "mutation_range_reducing_interval=\"none\"\n",
    "mutation_range_reducing_factor=\"none\"\n",
    "\n",
    "reducing_mutaiton_range=\"no\"\n",
    "stochastic_mutation_range=\"yes\"\n",
    "multiple_training_sets=\"yes\"\n",
    "keep_best_of_n_generations_keep_n_best=\"keep_n_best\"\n",
    "allow_topological_modification=\"no\"\n",
    "non_uniform_distribution_in_stochastic_mutation_range=\"no\"\n"
   ]
  },
  {
   "cell_type": "code",
   "execution_count": 5,
   "id": "7d09810f",
   "metadata": {},
   "outputs": [],
   "source": [
    "#this function produces a configuration of parameters based on an input number. this allows the python script to be run with just one parameter instead of 8\n",
    "\n",
    "def get_configuration(index):\n",
    "    base_config = {\n",
    "        \"neuron_count\": 1000,\n",
    "        \"connection_probability_dropoff\": 3.0,\n",
    "        \"hidden_neuron_connections\": 6,\n",
    "        \"inference_steps\": 8,\n",
    "        \"n_survivors\": 3,\n",
    "        \"activation_function\": \"leaky_relu\",\n",
    "    }\n",
    "\n",
    "    params_to_evaluate = list(base_config.keys())\n",
    "    param_index = index // 5\n",
    "    run_index = index % 5\n",
    "\n",
    "    param = params_to_evaluate[param_index]\n",
    "\n",
    "    if param == \"neuron_count\":\n",
    "        base_config[param] = int((np.linspace(9, 19, 5) ** 2.5)[run_index])\n",
    "    elif param == \"connection_probability_dropoff\":\n",
    "        base_config[param] = np.linspace(1, 4, 5)[run_index]\n",
    "    elif param == \"hidden_neuron_connections\":\n",
    "        base_config[param] = int(np.linspace(3, 20, 5)[run_index])\n",
    "        base_config[\"n_closes_neurons_connection_probability\"] = \"n_closest\"\n",
    "    elif param == \"inference_steps\":\n",
    "        base_config[param] = int(np.linspace(6, 20, 5)[run_index])\n",
    "    elif param == \"n_survivors\":\n",
    "        base_config[param] = int(np.linspace(1, 15, 5)[run_index])\n",
    "    elif param == \"activation_function\":\n",
    "        options = [\"relu\", \"leaky_relu\"]\n",
    "        base_config[param] = options[run_index % len(options)]\n",
    "\n",
    "    return base_config\n"
   ]
  },
  {
   "cell_type": "code",
   "execution_count": 6,
   "id": "c01a6673",
   "metadata": {},
   "outputs": [],
   "source": [
    "config = {         \"training_run\":training_run,\n",
    "                   \"neuron_count\":neuron_count,\n",
    "                   \"connection_probability_dropoff\":connection_probability_dropoff,\n",
    "                   \"connection_probability_scalar\":connection_probability_scalar,\n",
    "                   \"input_layer_connectivity_multiplyer\":input_layer_connectivity_multiplyer,\n",
    "                   \"output_layer_connectivity_multiplyer\":output_layer_connectivity_multiplyer,\n",
    "                   \"weight_initialisation_range\":weight_initialisation_range,\n",
    "                   \"n_closes_neurons_connection_probability\":n_closes_neurons_connection_probability,\n",
    "                   \"hidden_neuron_connections\" : hidden_neuron_connections,\n",
    "                   \"input_neuron_connections\" : input_neuron_connections,\n",
    "                   \"output_neuron_connections\" : output_neuron_connections,\n",
    "                   \"inference_steps\" : inference_steps,\n",
    "                   \"activation_function\":activation_function,\n",
    "                   \"generation_size\":generation_size,\n",
    "                   \"n_survivors\":n_survivors,\n",
    "                   \"mutation_range\":mutation_range,\n",
    "                   \"training_set_size\":training_set_size,\n",
    "                   \"mutation_range_reducing_interval\":mutation_range_reducing_interval,\n",
    "                   \"mutation_range_reducing_factor\":mutation_range_reducing_factor,\n",
    "                   \"reducing_mutaiton_range\":reducing_mutaiton_range,\n",
    "                   \"stochastic_mutation_range\":stochastic_mutation_range,\n",
    "                   \"multiple_training_sets\":multiple_training_sets,\n",
    "                   \"allow_topological_modification\":allow_topological_modification\n",
    "            }\n",
    "\n"
   ]
  },
  {
   "cell_type": "code",
   "execution_count": 7,
   "id": "7652eeac",
   "metadata": {},
   "outputs": [
    {
     "name": "stdout",
     "output_type": "stream",
     "text": [
      "training_run : 1\n",
      "neuron_count : 448\n",
      "connection_probability_dropoff : 3.0\n",
      "connection_probability_scalar : 3e-05\n",
      "input_layer_connectivity_multiplyer : 50\n",
      "output_layer_connectivity_multiplyer : 20\n",
      "weight_initialisation_range : 2\n",
      "n_closes_neurons_connection_probability : connection_prob\n",
      "hidden_neuron_connections : 6\n",
      "input_neuron_connections : 10\n",
      "output_neuron_connections : 10\n",
      "inference_steps : 8\n",
      "activation_function : leaky_relu\n",
      "generation_size : 10\n",
      "n_survivors : 3\n",
      "mutation_range : 0.1\n",
      "training_set_size : 1000\n",
      "mutation_range_reducing_interval : none\n",
      "mutation_range_reducing_factor : none\n",
      "reducing_mutaiton_range : no\n",
      "stochastic_mutation_range : yes\n",
      "multiple_training_sets : yes\n",
      "allow_topological_modification : no\n"
     ]
    }
   ],
   "source": [
    "settings = get_configuration(int(sys.argv[0]))\n",
    "for i in settings.keys():\n",
    "    config[i]=settings[i]\n",
    "for i in config.keys():   \n",
    "    print(i,\":\",config[i])"
   ]
  },
  {
   "cell_type": "code",
   "execution_count": 8,
   "id": "ed2ce317",
   "metadata": {},
   "outputs": [],
   "source": [
    "#load dataset\n",
    "from keras.datasets import mnist\n",
    "(train_X, train_y), (test_X, test_y) = mnist.load_data()\n",
    "#one hot encode\n",
    "def one_hot_encode(x):\n",
    "    out = np.zeros((len(x), max(x)+1))\n",
    "    for i in range(len(x)):\n",
    "        out[i][x[i]] = 1\n",
    "    return out\n",
    "\n",
    "y_train_ohe = one_hot_encode(train_y)\n",
    "y_test_ohe = one_hot_encode(test_y)\n",
    "#flatten images\n",
    "x_train = train_X.reshape(len(train_X), 28*28)\n",
    "x_test = test_X.reshape(len(test_X), 28*28)\n",
    "\n",
    "x_test = np.array_split(x_test, 1)\n",
    "y_test_ohe = np.array_split(y_test_ohe, 1)"
   ]
  },
  {
   "cell_type": "code",
   "execution_count": 9,
   "id": "adbc8b02",
   "metadata": {},
   "outputs": [],
   "source": [
    "def create_population(population_size):\n",
    "    population = []\n",
    "    print(\"Creating networks\")\n",
    "    for i in range(population_size):\n",
    "        net = nlnn(output_neurons = 10, hidden_neurons = config[\"neuron_count\"])\n",
    "        if config[\"n_closes_neurons_connection_probability\"] == \"connection_prob\":\n",
    "            net.initialise_structure(connection_probability_dropoff=config[\"connection_probability_dropoff\"], connection_probabily_scalar=config[\"connection_probability_scalar\"], input_connection_prob_multiplyer = config[\"input_layer_connectivity_multiplyer\"], output_connection_prob_multiplyer = config[\"output_layer_connectivity_multiplyer\"])\n",
    "        elif config[\"n_closes_neurons_connection_probability\"] == \"n_closest\":\n",
    "            net.initialise_structure_n_closest(hidden_neuron_connections = config[\"hidden_neuron_connections\"], input_neuron_connections = config[\"input_neuron_connections\"], output_neuron_connections = config[\"output_neuron_connections\"])\n",
    "        #net.initialise_randomly()\n",
    "        population.append(net)\n",
    "        print(\"|\", end=\"\")\n",
    "\n",
    "    print(\"done!\")\n",
    "    return population\n"
   ]
  },
  {
   "cell_type": "code",
   "execution_count": 10,
   "id": "2db86197",
   "metadata": {},
   "outputs": [],
   "source": [
    "def get_perf(t):\n",
    "        return t[0]\n",
    "\n",
    "#measure performance of all the networks\n",
    "def evaluate_performance(population, x, y):\n",
    "    performances = []\n",
    "    print(\"evaluating performances\", end=\"\")\n",
    "    for net in population:\n",
    "        predictions, result = net.predict(x, config[\"inference_steps\"])\n",
    "        correct_count = len(x)-(np.sum(np.abs(y - predictions))/2)\n",
    "        loss = np.sum(np.abs(y - result))\n",
    "        performances.append((loss/float(len(x)), net, correct_count/len(x)))\n",
    "        print(\"|\", end=\"\")\n",
    "    print(\" done!\", end=\" \")\n",
    "    #sort by best performance\n",
    "    performances.sort(key = get_perf, reverse = True)\n",
    "    return performances\n",
    "\n"
   ]
  },
  {
   "cell_type": "code",
   "execution_count": 11,
   "id": "93bdaacb",
   "metadata": {},
   "outputs": [],
   "source": [
    "from concurrent.futures import ThreadPoolExecutor\n",
    "\n",
    "def evaluate_net(net, x, y):\n",
    "    predictions = net.predict(x, config[\"inference_steps\"])[0]\n",
    "    correct_count = len(x) - (np.sum(np.abs(y - predictions)) / 2)\n",
    "    performance = correct_count / len(x)\n",
    "    return (performance, net)\n",
    "\n",
    "def evaluate_performance_fast(population, x, y):\n",
    "    with ThreadPoolExecutor() as executor:\n",
    "        performances = list(executor.map(evaluate_net, population, [x] * len(population), [y] * len(population)))\n",
    "\n",
    "    print(\"Evaluation done!\")\n",
    "\n",
    "    # Sort by best performance\n",
    "    performances.sort(key=lambda x: x[0], reverse=True)\n",
    "    return performances\n"
   ]
  },
  {
   "cell_type": "code",
   "execution_count": 12,
   "id": "cfa59dcf",
   "metadata": {},
   "outputs": [],
   "source": [
    "def repopulate(evaluated_networks, mutation_range, n):\n",
    "    offspring_per_network = int(population_size/n)\n",
    "    parents = [i[1] for i in evaluated_networks[:n]]\n",
    "    offspring = []\n",
    "    for net in parents:\n",
    "        net_offspring = net.reproduce(min(offspring_per_network, population_size - (len(offspring) + offspring_per_network)), mutation_range)\n",
    "        offspring.extend(net_offspring)\n",
    "    next_gen = parents + offspring\n",
    "    return next_gen\n"
   ]
  },
  {
   "cell_type": "code",
   "execution_count": 13,
   "id": "59dab4bb",
   "metadata": {},
   "outputs": [],
   "source": [
    "performance_over_time = []\n",
    "test_sets_used = []\n",
    "mutation_ranges = []"
   ]
  },
  {
   "cell_type": "code",
   "execution_count": 14,
   "id": "b3c877d4",
   "metadata": {
    "scrolled": true
   },
   "outputs": [
    {
     "name": "stdout",
     "output_type": "stream",
     "text": [
      "Creating networks\n",
      "||||||||||done!\n",
      "evaluating performances|||||||||| done! best performer of this generation : 72621.71346483586\n",
      "generation 2  test set: 0 evaluating performances|||||||||| done!  best: accuracy 0.1023 loss: 72621.71346483586\n",
      "mutating in range: 0.05735008141862215\n"
     ]
    },
    {
     "data": {
      "image/png": "[encoded data removed]",
      "text/plain": [
       "<Figure size 1200x600 with 2 Axes>"
      ]
     },
     "metadata": {},
     "output_type": "display_data"
    },
    {
     "name": "stdout",
     "output_type": "stream",
     "text": [
      "average best of last 100 generations 72621.71346483586\n",
      "generation 3  test set: 0 evaluating performances|||||||||| done!  best: accuracy 0.0993 loss: 76029.81642545128\n",
      "mutating in range: 0.027339741520214112\n",
      "generation 4  test set: 0 evaluating performances|||||||||| done!  best: accuracy 0.0986 loss: 78962.93377040655\n",
      "mutating in range: 0.04641759488603692\n",
      "generation 5  test set: 0 evaluating performances|||||||||| done!  best: accuracy 0.0992 loss: 81448.87305320191\n",
      "mutating in range: 0.06053781831673891\n",
      "generation 6  test set: 0 evaluating performances|||||||||| done!  best: accuracy 0.0979 loss: 87636.85266837635\n",
      "mutating in range: 0.02535232732930818\n",
      "generation 7  test set: 0 evaluating performances||||"
     ]
    },
    {
     "ename": "KeyboardInterrupt",
     "evalue": "",
     "output_type": "error",
     "traceback": [
      "\u001b[0;31m---------------------------------------------------------------------------\u001b[0m",
      "\u001b[0;31mKeyboardInterrupt\u001b[0m                         Traceback (most recent call last)",
      "Cell \u001b[0;32mIn[14], line 28\u001b[0m\n\u001b[1;32m     26\u001b[0m test_sets_used\u001b[38;5;241m.\u001b[39mappend(test_set)\n\u001b[1;32m     27\u001b[0m \u001b[38;5;28mprint\u001b[39m(\u001b[38;5;124m\"\u001b[39m\u001b[38;5;124m test set:\u001b[39m\u001b[38;5;124m\"\u001b[39m,test_set,end\u001b[38;5;241m=\u001b[39m\u001b[38;5;124m\"\u001b[39m\u001b[38;5;124m \u001b[39m\u001b[38;5;124m\"\u001b[39m)\n\u001b[0;32m---> 28\u001b[0m evaluated_networks \u001b[38;5;241m=\u001b[39m \u001b[43mevaluate_performance\u001b[49m\u001b[43m(\u001b[49m\u001b[43mnext_generation\u001b[49m\u001b[43m,\u001b[49m\u001b[43m \u001b[49m\u001b[43mx_test\u001b[49m\u001b[43m[\u001b[49m\u001b[43mtest_set\u001b[49m\u001b[43m]\u001b[49m\u001b[43m,\u001b[49m\u001b[43m \u001b[49m\u001b[43my_test_ohe\u001b[49m\u001b[43m[\u001b[49m\u001b[43mtest_set\u001b[49m\u001b[43m]\u001b[49m\u001b[43m)\u001b[49m\n\u001b[1;32m     29\u001b[0m \u001b[38;5;28mprint\u001b[39m(\u001b[38;5;124m\"\u001b[39m\u001b[38;5;124m best: accuracy\u001b[39m\u001b[38;5;124m\"\u001b[39m, evaluated_networks[\u001b[38;5;241m0\u001b[39m][\u001b[38;5;241m2\u001b[39m], \u001b[38;5;124m\"\u001b[39m\u001b[38;5;124mloss:\u001b[39m\u001b[38;5;124m\"\u001b[39m, evaluated_networks[\u001b[38;5;241m0\u001b[39m][\u001b[38;5;241m0\u001b[39m])\n\u001b[1;32m     30\u001b[0m performance_over_time\u001b[38;5;241m.\u001b[39mappend(np\u001b[38;5;241m.\u001b[39marray(evaluated_networks)[:,\u001b[38;5;241m0\u001b[39m])\n",
      "Cell \u001b[0;32mIn[10], line 9\u001b[0m, in \u001b[0;36mevaluate_performance\u001b[0;34m(population, x, y)\u001b[0m\n\u001b[1;32m      7\u001b[0m \u001b[38;5;28mprint\u001b[39m(\u001b[38;5;124m\"\u001b[39m\u001b[38;5;124mevaluating performances\u001b[39m\u001b[38;5;124m\"\u001b[39m, end\u001b[38;5;241m=\u001b[39m\u001b[38;5;124m\"\u001b[39m\u001b[38;5;124m\"\u001b[39m)\n\u001b[1;32m      8\u001b[0m \u001b[38;5;28;01mfor\u001b[39;00m net \u001b[38;5;129;01min\u001b[39;00m population:\n\u001b[0;32m----> 9\u001b[0m     predictions, result \u001b[38;5;241m=\u001b[39m \u001b[43mnet\u001b[49m\u001b[38;5;241;43m.\u001b[39;49m\u001b[43mpredict\u001b[49m\u001b[43m(\u001b[49m\u001b[43mx\u001b[49m\u001b[43m,\u001b[49m\u001b[43m \u001b[49m\u001b[43mconfig\u001b[49m\u001b[43m[\u001b[49m\u001b[38;5;124;43m\"\u001b[39;49m\u001b[38;5;124;43minference_steps\u001b[39;49m\u001b[38;5;124;43m\"\u001b[39;49m\u001b[43m]\u001b[49m\u001b[43m)\u001b[49m\n\u001b[1;32m     10\u001b[0m     correct_count \u001b[38;5;241m=\u001b[39m \u001b[38;5;28mlen\u001b[39m(x)\u001b[38;5;241m-\u001b[39m(np\u001b[38;5;241m.\u001b[39msum(np\u001b[38;5;241m.\u001b[39mabs(y \u001b[38;5;241m-\u001b[39m predictions))\u001b[38;5;241m/\u001b[39m\u001b[38;5;241m2\u001b[39m)\n\u001b[1;32m     11\u001b[0m     loss \u001b[38;5;241m=\u001b[39m np\u001b[38;5;241m.\u001b[39msum(np\u001b[38;5;241m.\u001b[39mabs(y \u001b[38;5;241m-\u001b[39m result))\n",
      "File \u001b[0;32m~/Desktop/Studium_Informatik/Bachelor Arbeit/Bachelor_Thesis/non_layered_neural_net.py:268\u001b[0m, in \u001b[0;36mnlnn.predict\u001b[0;34m(self, x, steps, activation_function)\u001b[0m\n\u001b[1;32m    266\u001b[0m \u001b[38;5;66;03m#print(\"before propagation\", get_memory_usage(), \"MB\")\u001b[39;00m\n\u001b[1;32m    267\u001b[0m \u001b[38;5;28;01mfor\u001b[39;00m i \u001b[38;5;129;01min\u001b[39;00m \u001b[38;5;28mrange\u001b[39m(steps):\n\u001b[0;32m--> 268\u001b[0m     \u001b[38;5;28;43mself\u001b[39;49m\u001b[38;5;241;43m.\u001b[39;49m\u001b[43mprop_step\u001b[49m\u001b[43m(\u001b[49m\u001b[43mx\u001b[49m\u001b[43m,\u001b[49m\u001b[43m \u001b[49m\u001b[43mactivation_function\u001b[49m\u001b[43m \u001b[49m\u001b[38;5;241;43m=\u001b[39;49m\u001b[43m \u001b[49m\u001b[43mactivation_function\u001b[49m\u001b[43m)\u001b[49m\n\u001b[1;32m    269\u001b[0m \u001b[38;5;66;03m#print(\"after prpagation\", get_memory_usage(), \"MB\")\u001b[39;00m\n\u001b[1;32m    270\u001b[0m result \u001b[38;5;241m=\u001b[39m \u001b[38;5;28mself\u001b[39m\u001b[38;5;241m.\u001b[39mget_output()\n",
      "File \u001b[0;32m~/Desktop/Studium_Informatik/Bachelor Arbeit/Bachelor_Thesis/non_layered_neural_net.py:222\u001b[0m, in \u001b[0;36mnlnn.prop_step\u001b[0;34m(self, x, activation_function)\u001b[0m\n\u001b[1;32m    220\u001b[0m     \u001b[38;5;28mself\u001b[39m\u001b[38;5;241m.\u001b[39mneuron_values \u001b[38;5;241m=\u001b[39m \u001b[38;5;28mself\u001b[39m\u001b[38;5;241m.\u001b[39msigmoid(np\u001b[38;5;241m.\u001b[39mdot(\u001b[38;5;28mself\u001b[39m\u001b[38;5;241m.\u001b[39mneuron_values, \u001b[38;5;28mself\u001b[39m\u001b[38;5;241m.\u001b[39madj_matrix))\n\u001b[1;32m    221\u001b[0m \u001b[38;5;28;01melif\u001b[39;00m activation_function \u001b[38;5;241m==\u001b[39m \u001b[38;5;124m\"\u001b[39m\u001b[38;5;124mleaky_relu\u001b[39m\u001b[38;5;124m\"\u001b[39m:\n\u001b[0;32m--> 222\u001b[0m     \u001b[38;5;28mself\u001b[39m\u001b[38;5;241m.\u001b[39mneuron_values \u001b[38;5;241m=\u001b[39m \u001b[38;5;28mself\u001b[39m\u001b[38;5;241m.\u001b[39mleaky_relu(\u001b[43mnp\u001b[49m\u001b[38;5;241;43m.\u001b[39;49m\u001b[43mdot\u001b[49m\u001b[43m(\u001b[49m\u001b[38;5;28;43mself\u001b[39;49m\u001b[38;5;241;43m.\u001b[39;49m\u001b[43mneuron_values\u001b[49m\u001b[43m,\u001b[49m\u001b[43m \u001b[49m\u001b[38;5;28;43mself\u001b[39;49m\u001b[38;5;241;43m.\u001b[39;49m\u001b[43madj_matrix\u001b[49m\u001b[43m)\u001b[49m)\n\u001b[1;32m    223\u001b[0m \u001b[38;5;28mself\u001b[39m\u001b[38;5;241m.\u001b[39mneuron_values[:, :x\u001b[38;5;241m.\u001b[39mshape[\u001b[38;5;241m1\u001b[39m]] \u001b[38;5;241m=\u001b[39m x\n",
      "File \u001b[0;32m<__array_function__ internals>:180\u001b[0m, in \u001b[0;36mdot\u001b[0;34m(*args, **kwargs)\u001b[0m\n",
      "\u001b[0;31mKeyboardInterrupt\u001b[0m: "
     ]
    }
   ],
   "source": [
    "#Training loop\n",
    "    #loading hyperparameters\n",
    "n = config[\"n_survivors\"]\n",
    "mutation_range = config[\"mutation_range\"]\n",
    "population_size = config[\"generation_size\"]\n",
    "population_size = config[\"generation_size\"]\n",
    "print_graphs = True\n",
    "\n",
    "networks = create_population(population_size)\n",
    "evaluated_networks = evaluate_performance(networks, x_test[0], y_test_ohe[0])\n",
    "print(\"best performer of this generation :\", evaluated_networks[0][0])\n",
    "performance_over_time.append(np.array(evaluated_networks)[:,0])\n",
    "next_generation = repopulate(evaluated_networks, mutation_range,n)\n",
    "\n",
    "generations = 5000\n",
    "test_set = 0\n",
    "for gen in range(generations):\n",
    "    if(config[\"reducing_mutaiton_range\"]==\"yes\"):\n",
    "        if(gen%config[\"mutation_range_reducing_interval\"]==0 and gen!=0): \n",
    "            mutation_range/=config[\"mutation_range_reducing_factor\"]\n",
    "            print(\"decreasing mutation range from\",mutation_range*config[\"mutation_range_reducing_factor\"],\"to\",mutation_range)\n",
    "    print(\"generation \"+str(len(performance_over_time)+1), end=\" \")\n",
    "\n",
    "    if False and config[\"multiple_training_sets\"] == \"yes\" and len(performance_over_time)%100 == 0 and gen!=0:\n",
    "        test_set = np.random.randint(4)\n",
    "    test_sets_used.append(test_set)\n",
    "    print(\" test set:\",test_set,end=\" \")\n",
    "    evaluated_networks = evaluate_performance(next_generation, x_test[test_set], y_test_ohe[test_set])\n",
    "    print(\" best: accuracy\", evaluated_networks[0][2], \"loss:\", evaluated_networks[0][0])\n",
    "    performance_over_time.append(np.array(evaluated_networks)[:,0])\n",
    "    generational_mutation_range = mutation_range\n",
    "    if config[\"stochastic_mutation_range\"]==\"yes\": #change back\n",
    "        generational_mutation_range = np.random.rand() * mutation_range\n",
    "    mutation_ranges.append(generational_mutation_range)\n",
    "    print(\"mutating in range:\", generational_mutation_range)\n",
    "    next_generation = repopulate(evaluated_networks, generational_mutation_range, config[\"n_survivors\"])\n",
    "    if(gen%10==0) and print_graphs:\n",
    "        plt.figure(figsize=(12, 6))  # Create a new figure, optional figsize argument sets the size of the figure in inches\n",
    "\n",
    "        # Subplot for the loss\n",
    "        plt.subplot(1, 2, 1)  # 1 row, 2 columns, first plot\n",
    "        plt.plot(np.array(performance_over_time), alpha=0.1)\n",
    "        plt.plot(np.array(performance_over_time)[:,0])\n",
    "        plt.title(\"Loss over time\")  # Optional title for the first plot\n",
    "\n",
    "        # Subplot for the accuracy\n",
    "        plt.subplot(1, 2, 2)  # 1 row, 2 columns, second plot\n",
    "        plt.plot(np.array(performance_over_time), alpha=0.1)\n",
    "        plt.plot(np.array(performance_over_time)[:,2])\n",
    "        plt.title(\"Accuracy over time\")  # Optional title for the second plot\n",
    "\n",
    "        plt.show()\n",
    "        print(\"average best of last 100 generations\",np.average(np.array(performance_over_time)[-100:,0]))\n",
    "    "
   ]
  },
  {
   "cell_type": "code",
   "execution_count": null,
   "id": "d46dc167",
   "metadata": {},
   "outputs": [],
   "source": [
    "#visualising performance across the 10 different sets\n",
    "def visualise_performance():\n",
    "    performance_hist = np.array(performance_over_time)[-len(test_sets_used):,0]\n",
    "    set_perf = []\n",
    "    for i in range(10):\n",
    "        set_perf.append([])\n",
    "    for i in range(len(test_sets_used)-10):\n",
    "        set_perf[test_sets_used[i]].append(performance_hist[i])\n",
    "\n",
    "    for i in set_perf:\n",
    "        plt.plot(i, alpha=0.8)\n",
    "    plt.show()\n",
    "    \"\"\"\n",
    "    plt.violinplot(set_perf)\n",
    "    plt.show()\n",
    "    \"\"\"\n",
    "    performance_hist = np.array(performance_over_time)[-len(test_sets_used):]\n",
    "    performance_changes = []\n",
    "    for i in range(len(performance_hist)-1):\n",
    "        performance_changes.append(-(np.average(performance_hist[i])-np.average(performance_hist[i+1])))\n",
    "\n",
    "    plt.scatter(np.array(performance_changes)[:len(mutation_ranges)], np.array(mutation_ranges)[:len(performance_changes)])\n",
    "    plt.xlabel('change in perform')\n",
    "    plt.ylabel('Y-axis label')\n",
    "    plt.title(\"avg performance increase vs. mutation ranges\")\n",
    "    plt.show()\n",
    "\n",
    "    plt.violinplot(np.array(mutation_ranges))\n",
    "    plt.title(\"frequency of mutation ranges\")\n",
    "    plt.show()\n",
    "\n",
    "\n",
    "    plt.plot(performance_over_time, alpha= 0.1)\n",
    "    plt.plot(np.array(performance_over_time)[:,0])\n",
    "    plt.title(\"performance of ranked individuals\")\n",
    "    plt.show()\n",
    "\n",
    "\n",
    "    plt.plot(np.average(np.split(np.array(performance_over_time)[:6400,0], 40),axis =1))\n",
    "    plt.title(\"performannce over time, smoothed\")\n",
    "    plt.show()\n",
    "    \n",
    "visualise_performance()"
   ]
  },
  {
   "cell_type": "code",
   "execution_count": null,
   "id": "32f1169d",
   "metadata": {},
   "outputs": [],
   "source": []
  },
  {
   "cell_type": "code",
   "execution_count": null,
   "id": "b66a3dd2",
   "metadata": {},
   "outputs": [],
   "source": [
    "config[\"duration\"] = duration\n",
    "\n",
    "folder_name = 'run_'+str(training_run)\n",
    "suffix = 1\n",
    "\n",
    "while os.path.exists(folder_name):\n",
    "    suffix += 1\n",
    "    folder_name = f\"{folder_name}_{suffix}\"\n",
    "\n",
    "os.makedirs(folder_name)\n",
    "\n",
    "\n",
    "performance_over_time_array = np.array(performance_over_time)\n",
    "\n",
    "np.savetxt(folder_name+'/training_run_'+str(training_run)+'_performance.csv', performance_over_time_array, delimiter=',')\n",
    "np.savetxt(folder_name+'/training_run_'+str(training_run)+'_test_sets_used.csv', test_sets_used, delimiter=',')\n",
    "np.savetxt(folder_name+'/training_run_'+str(training_run)+'_mutation_ranges.csv', mutation_ranges, delimiter=',')\n",
    "np.savetxt(folder_name+'/training_run_'+str(training_run)+'_best_weights.csv', evaluated_networks[0][1].adj_matrix.toarray(), delimiter=',')\n",
    "np.save(folder_name+'/training_run_'+str(training_run)+'_config.npy', np.array(config))"
   ]
  },
  {
   "cell_type": "code",
   "execution_count": null,
   "id": "dd072ecc",
   "metadata": {},
   "outputs": [],
   "source": []
  },
  {
   "cell_type": "code",
   "execution_count": null,
   "id": "de202d98",
   "metadata": {},
   "outputs": [],
   "source": []
  }
 ],
 "metadata": {
  "kernelspec": {
   "display_name": "Python 3 (ipykernel)",
   "language": "python",
   "name": "python3"
  },
  "language_info": {
   "codemirror_mode": {
    "name": "ipython",
    "version": 3
   },
   "file_extension": ".py",
   "mimetype": "text/x-python",
   "name": "python",
   "nbconvert_exporter": "python",
   "pygments_lexer": "ipython3",
   "version": "3.10.8"
  }
 },
 "nbformat": 4,
 "nbformat_minor": 5
}
