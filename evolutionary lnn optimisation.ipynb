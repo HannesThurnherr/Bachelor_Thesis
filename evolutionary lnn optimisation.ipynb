{
 "cells": [
  {
   "cell_type": "code",
   "execution_count": 1,
   "id": "a7b85639",
   "metadata": {},
   "outputs": [],
   "source": [
    "#imports\n",
    "import numpy as np\n",
    "import tensorflow as tf\n",
    "import tensorflow.keras\n",
    "import matplotlib.pyplot as plt\n",
    "\n",
    "from layered_neural_net import lnn\n",
    "\n"
   ]
  },
  {
   "cell_type": "code",
   "execution_count": 2,
   "id": "34efd20c",
   "metadata": {},
   "outputs": [],
   "source": [
    "#Run_hyperparameters\n",
    "layers = [28*28,200,10]\n"
   ]
  },
  {
   "cell_type": "code",
   "execution_count": 3,
   "id": "ccc554e3",
   "metadata": {},
   "outputs": [
    {
     "name": "stdout",
     "output_type": "stream",
     "text": [
      "X_train: (60000, 28, 28)\n",
      "Y_train: (60000,)\n",
      "X_test:  (10000, 28, 28)\n",
      "Y_test:  (10000,)\n"
     ]
    }
   ],
   "source": [
    "#load dataset\n",
    "from keras.datasets import mnist\n",
    "(train_X, train_y), (test_X, test_y) = mnist.load_data()\n",
    "\n",
    "print('X_train: ' + str(train_X.shape))\n",
    "print('Y_train: ' + str(train_y.shape))\n",
    "print('X_test:  '  + str(test_X.shape))\n",
    "print('Y_test:  '  + str(test_y.shape))"
   ]
  },
  {
   "cell_type": "code",
   "execution_count": 4,
   "id": "ed2ce317",
   "metadata": {},
   "outputs": [
    {
     "data": {
      "text/plain": [
       "'\\nx_test = np.array_split(x_test, 10)\\ny_test_ohe = np.array_split(y_test_ohe, 10)\\n\\n'"
      ]
     },
     "execution_count": 4,
     "metadata": {},
     "output_type": "execute_result"
    }
   ],
   "source": [
    "#try on all classes\n",
    "#one hot encode\n",
    "def one_hot_encode(x):\n",
    "    out = np.zeros((len(x), max(x)+1))\n",
    "    for i in range(len(x)):\n",
    "        out[i][x[i]] = 1\n",
    "    return out\n",
    "\n",
    "y_train_ohe = one_hot_encode(train_y)\n",
    "y_test_ohe = one_hot_encode(test_y)\n",
    "#flatten images\n",
    "x_train = train_X.reshape(len(train_X), 28*28)\n",
    "x_test = test_X.reshape(len(test_X), 28*28)\n",
    "\"\"\"\n",
    "x_test = np.array_split(x_test, 10)\n",
    "y_test_ohe = np.array_split(y_test_ohe, 10)\n",
    "\n",
    "\"\"\"\n"
   ]
  },
  {
   "cell_type": "code",
   "execution_count": 5,
   "id": "0eaf2f63",
   "metadata": {},
   "outputs": [
    {
     "ename": "NameError",
     "evalue": "name 'x' is not defined",
     "output_type": "error",
     "traceback": [
      "\u001b[0;31m---------------------------------------------------------------------------\u001b[0m",
      "\u001b[0;31mNameError\u001b[0m                                 Traceback (most recent call last)",
      "Cell \u001b[0;32mIn[5], line 1\u001b[0m\n\u001b[0;32m----> 1\u001b[0m \u001b[43mx\u001b[49m\n\u001b[1;32m      2\u001b[0m \u001b[38;5;28mprint\u001b[39m(x_test[\u001b[38;5;241m2\u001b[39m]\u001b[38;5;241m.\u001b[39mshape)\n\u001b[1;32m      3\u001b[0m \u001b[38;5;28mprint\u001b[39m(y_test_ohe[\u001b[38;5;241m2\u001b[39m]\u001b[38;5;241m.\u001b[39mshape)\n",
      "\u001b[0;31mNameError\u001b[0m: name 'x' is not defined"
     ]
    }
   ],
   "source": [
    "x\n",
    "print(x_test[2].shape)\n",
    "print(y_test_ohe[2].shape)\n",
    "\n",
    "print(x_train.shape)\n",
    "print(y_train_ohe.shape)\n"
   ]
  },
  {
   "cell_type": "code",
   "execution_count": null,
   "id": "adbc8b02",
   "metadata": {},
   "outputs": [],
   "source": [
    "#setting up evolutionary pipeline\n",
    "performance_over_time = []\n",
    "#creating initial population\n",
    "population_size = 10\n",
    "def create_population(population_size):\n",
    "    population = []\n",
    "    print(\"Creating networks\")\n",
    "    for i in range(population_size):\n",
    "        net = lnn(layers)\n",
    "        population.append(net)\n",
    "        print(\"|\", end=\"\")\n",
    "    print(\"done!\")\n",
    "    return population\n",
    "\n",
    "\n",
    "networks = create_population(population_size)"
   ]
  },
  {
   "cell_type": "code",
   "execution_count": null,
   "id": "2db86197",
   "metadata": {},
   "outputs": [],
   "source": [
    "def get_perf(t):\n",
    "        return t[0]\n",
    "\n",
    "#measure performance of all the networks\n",
    "def evaluate_performance(population, x, y):\n",
    "    performances = []\n",
    "    print(\"evaluating performances\", end=\"\")\n",
    "    for net in population:\n",
    "        predictions = net.predict(x)[0]\n",
    "        correct_count = len(x)-(np.sum(np.abs(y - predictions))/2)\n",
    "        performances.append((correct_count/len(x), net))\n",
    "        #print(correct_count/len(x))\n",
    "        print(\"|\", end=\"\")\n",
    "    print(\" done!\", end=\" \")\n",
    "    #sort by best performance\n",
    "    performances.sort(key = get_perf, reverse = True)\n",
    "    return performances\n",
    "\n",
    "evaluated_networks = evaluate_performance(networks, x_test[1], y_test_ohe[1])\n",
    "print(\"best performer of this generation :\", evaluated_networks[0][0])\n",
    "performance_over_time.append(np.array(evaluated_networks)[:,0])"
   ]
  },
  {
   "cell_type": "code",
   "execution_count": null,
   "id": "cfa59dcf",
   "metadata": {},
   "outputs": [],
   "source": [
    "#the n best performing networks will be selected\n",
    "n = 3\n",
    "mutation_range = 0.1\n",
    "\n",
    "def repopulate(evaluated_networks, mutation_range, n):\n",
    "    offspring_per_network = int(population_size/n)\n",
    "    parents = [i[1] for i in evaluated_networks[:n]]\n",
    "    offspring = []\n",
    "    for net in parents:\n",
    "        net_offspring = net.reproduce(min(offspring_per_network, population_size - len(offspring)), mutation_range)\n",
    "        offspring.extend(net_offspring)\n",
    "    next_gen = parents + offspring\n",
    "    next_gen = next_gen[:population_size]\n",
    "    return next_gen\n",
    "    \n",
    "next_generation = repopulate(evaluated_networks, mutation_range,n)"
   ]
  },
  {
   "cell_type": "code",
   "execution_count": null,
   "id": "59dab4bb",
   "metadata": {},
   "outputs": [],
   "source": [
    "performance_over_time = []"
   ]
  },
  {
   "cell_type": "code",
   "execution_count": null,
   "id": "65be64ea",
   "metadata": {},
   "outputs": [],
   "source": [
    "test_sets_used = []\n",
    "mutation_ranges = []"
   ]
  },
  {
   "cell_type": "code",
   "execution_count": null,
   "id": "32d32fcf",
   "metadata": {},
   "outputs": [],
   "source": [
    "print(np.array(performance_over_time))\n",
    "for i in performance_over_time:\n",
    "    print(len(i))"
   ]
  },
  {
   "cell_type": "code",
   "execution_count": null,
   "id": "b3c877d4",
   "metadata": {},
   "outputs": [],
   "source": [
    "generations = 1\n",
    "mutation_range = 0.05\n",
    "population_size = 10\n",
    "for gen in range(generations):\n",
    "    #if(gen%10==0 and gen!=0): \n",
    "    #    mutation_range/=1.4\n",
    "    #    print(\"decreasing mutation range from\",mutation_range*1.4,\"to\",mutation_range)\n",
    "    print(\"generation \"+str(len(performance_over_time)+1), end=\" \")\n",
    "    test_set = np.random.randint(10)\n",
    "    test_sets_used.append(test_set)\n",
    "    print(\" test set:\",test_set,end=\" \")\n",
    "    evaluated_networks = evaluate_performance(next_generation, x_test[test_set], y_test_ohe[test_set])\n",
    "    print(\" best:\", evaluated_networks[0][0], \"second:\", evaluated_networks[1][0], \"third:\", evaluated_networks[2][0])\n",
    "    performance_over_time.append(list(np.array(evaluated_networks)[:,0]))\n",
    "    generational_mutation_range = np.random.rand()*mutation_range\n",
    "    mutation_ranges.append(generational_mutation_range)\n",
    "    print(\"mutating in range:\", generational_mutation_range)\n",
    "    next_generation = repopulate(evaluated_networks, generational_mutation_range, n)\n",
    "    if(gen%1000==0):\n",
    "        plt.plot(performance_over_time, alpha= 0.1)\n",
    "        plt.plot(np.array(performance_over_time)[:,0])\n",
    "        plt.show()\n",
    "        print(\"average best of last 1000 generations\",np.average(np.array(performance_over_time)[-1000:,0]))\n",
    "    "
   ]
  },
  {
   "cell_type": "code",
   "execution_count": null,
   "id": "d46dc167",
   "metadata": {},
   "outputs": [],
   "source": [
    "#visualising performance across the 10 different sets\n",
    "\n",
    "performance_hist = np.array(performance_over_time)[-len(test_sets_used):,0]\n",
    "set_perf = []\n",
    "for i in range(10):\n",
    "    set_perf.append([])\n",
    "\n",
    "for i in range(len(test_sets_used)):\n",
    "    set_perf[test_sets_used[i]].append(performance_hist[i])\n",
    "\n",
    "for i in set_perf:\n",
    "    plt.plot(i, alpha=0.8)\n",
    "plt.show()\n",
    "\n",
    "plt.violinplot(set_perf)\n",
    "plt.show()\n",
    "\n",
    "performance_hist = np.array(performance_over_time)[-len(test_sets_used):]\n",
    "performance_changes = []\n",
    "for i in range(len(performance_hist)-1):\n",
    "    performance_changes.append(np.average(performance_hist[i])-np.average(performance_hist[i+1]))\n",
    "\n",
    "print(np.array(mutation_ranges)[:len(mutation_ranges)].shape)\n",
    "print(np.array(performance_changes)[:len(mutation_ranges)].shape)\n",
    "\n",
    "plt.scatter(np.array(performance_changes)[:len(mutation_ranges)], np.array(mutation_ranges)[:len(performance_changes)])\n",
    "plt.show()\n",
    "plt.violinplot(np.array(mutation_ranges))\n",
    "plt.show()"
   ]
  },
  {
   "cell_type": "code",
   "execution_count": null,
   "id": "b64fd3dd",
   "metadata": {},
   "outputs": [],
   "source": [
    "#TQDM -> loading bars\n",
    "\n",
    "plt.plot(performance_over_time, alpha= 0.1)\n",
    "plt.plot(np.array(performance_over_time)[:,0])\n",
    "#plt.plot(list(0.99*np.ones(len(performance_over_time))))\n",
    "plt.show()"
   ]
  },
  {
   "cell_type": "code",
   "execution_count": null,
   "id": "65b9af79",
   "metadata": {},
   "outputs": [],
   "source": [
    "plt.plot(np.average(np.split(np.array(performance_over_time)[:6400,0], 100),axis =1))\n",
    "\n",
    "import matplotlib.font_manager as fm\n",
    "\n",
    "# Assuming 'performance_over_time' is already defined\n",
    "average_performance = np.average(np.split(np.array(performance_over_time)[:6400,0], 100),axis=1)\n",
    "\n",
    "# Create a larger figure\n",
    "fig = plt.figure(figsize=(10, 6))\n",
    "\n",
    "# Get the current axes, creating one if necessary.\n",
    "ax = fig.gca()\n",
    "\n",
    "# Set the background color of the plot to black\n",
    "ax.set_facecolor('black')\n",
    "\n",
    "# Create the plot with a line style and a bright blue color\n",
    "plt.plot(average_performance, linestyle='-', color='cyan', linewidth=2.0)\n",
    "\n",
    "# Specify a font\n",
    "font_path = '/Users/hannes/Library/Fonts/CenturyGothic.ttf'\n",
    "font = fm.FontProperties(fname=font_path, size=16)\n",
    "\n",
    "# Add title and labels with larger font sizes and black color\n",
    "plt.title('Average Performance Over Time', fontsize=20, color='black', fontproperties=font)\n",
    "plt.xlabel('Time', fontsize=16, color='black', fontproperties=font)\n",
    "plt.ylabel('Average Performance', fontsize=16, color='black', fontproperties=font)\n",
    "\n",
    "# Add a grid for easier visualization of values, with blue color\n",
    "plt.grid(True, color='dodgerblue')\n",
    "\n",
    "# Increase the size of the ticks for the x and y axes and make them black\n",
    "plt.xticks(fontsize=14, color='black', fontproperties=font)\n",
    "plt.yticks(fontsize=14, color='black', fontproperties=font)\n",
    "\n",
    "# Add a legend with black font\n",
    "plt.legend(['Performance'], loc='upper left', fontsize=14, facecolor='black', edgecolor='dodgerblue', labelcolor='black')\n",
    "\n",
    "# Set the color of the spines to blue\n",
    "ax.spines[:].set_color('dodgerblue')\n",
    "\n",
    "# Show the plot\n",
    "plt.show()"
   ]
  },
  {
   "cell_type": "code",
   "execution_count": null,
   "id": "af62f7ef",
   "metadata": {},
   "outputs": [],
   "source": [
    "import matplotlib.font_manager\n",
    "fonts = matplotlib.font_manager.findSystemFonts(fontpaths=None, fontext='ttf')\n",
    "\n",
    "for i in fonts:\n",
    "    if \"Gothic\" in i:\n",
    "        print(i)\n"
   ]
  },
  {
   "cell_type": "code",
   "execution_count": null,
   "id": "5a3ae409",
   "metadata": {},
   "outputs": [],
   "source": [
    "np.savetxt('training_run_'+str(training_run)+'_performance.csv', performance_over_time, delimiter=',')\n",
    "np.savetxt('training_run_'+str(training_run)+'_test_sets_used.csv', test_sets_used, delimiter=',')\n",
    "np.savetxt('training_run_'+str(training_run)+'_mutation_ranges.csv', mutation_ranges, delimiter=',')\n",
    "np.save('training_run_'+str(training_run)+'_config.npy', np.array(log))"
   ]
  },
  {
   "cell_type": "code",
   "execution_count": null,
   "id": "2fc1779f",
   "metadata": {},
   "outputs": [],
   "source": [
    "#Ideas to improve GA\n",
    "#take best of last 3 gens instead of best 3 of last gen\n",
    "#Cap unused neurons (if collumn or line of adj matrix empty, kill both)\n",
    "#topology modification"
   ]
  },
  {
   "cell_type": "code",
   "execution_count": null,
   "id": "692d8025",
   "metadata": {},
   "outputs": [],
   "source": []
  },
  {
   "cell_type": "code",
   "execution_count": null,
   "id": "beb875b5",
   "metadata": {},
   "outputs": [],
   "source": []
  }
 ],
 "metadata": {
  "kernelspec": {
   "display_name": "Python 3 (ipykernel)",
   "language": "python",
   "name": "python3"
  },
  "language_info": {
   "codemirror_mode": {
    "name": "ipython",
    "version": 3
   },
   "file_extension": ".py",
   "mimetype": "text/x-python",
   "name": "python",
   "nbconvert_exporter": "python",
   "pygments_lexer": "ipython3",
   "version": "3.10.8"
  }
 },
 "nbformat": 4,
 "nbformat_minor": 5
}
