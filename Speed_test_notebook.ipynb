{
 "cells": [
  {
   "cell_type": "code",
   "execution_count": 1,
   "id": "a2fd801a",
   "metadata": {},
   "outputs": [],
   "source": [
    "import test_speed"
   ]
  },
  {
   "cell_type": "code",
   "execution_count": 2,
   "id": "5aa66d0d",
   "metadata": {},
   "outputs": [
    {
     "name": "stdout",
     "output_type": "stream",
     "text": [
      "time: 2.014709949493408\n"
     ]
    }
   ],
   "source": [
    "test_speed.speedtest(1000)"
   ]
  },
  {
   "cell_type": "code",
   "execution_count": null,
   "id": "bf5531af",
   "metadata": {},
   "outputs": [],
   "source": []
  }
 ],
 "metadata": {
  "kernelspec": {
   "display_name": "Python 3 (ipykernel)",
   "language": "python",
   "name": "python3"
  },
  "language_info": {
   "codemirror_mode": {
    "name": "ipython",
    "version": 3
   },
   "file_extension": ".py",
   "mimetype": "text/x-python",
   "name": "python",
   "nbconvert_exporter": "python",
   "pygments_lexer": "ipython3",
   "version": "3.10.8"
  }
 },
 "nbformat": 4,
 "nbformat_minor": 5
}
